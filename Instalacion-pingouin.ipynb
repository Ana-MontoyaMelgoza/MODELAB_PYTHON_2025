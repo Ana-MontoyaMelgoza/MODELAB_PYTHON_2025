{
 "cells": [
  {
   "cell_type": "markdown",
   "id": "7a0ba33a",
   "metadata": {},
   "source": [
    "1. Buscar en internet la libreria. Instalación con anaconda\n",
    "2. En el power shell de anaconda, ingresar los comandos indicados en internet\n",
    "3. importar a jupyter\n"
   ]
  },
  {
   "cell_type": "code",
   "execution_count": 2,
   "id": "9eb9a68b",
   "metadata": {},
   "outputs": [],
   "source": [
    "import pingouin as pg"
   ]
  },
  {
   "cell_type": "code",
   "execution_count": null,
   "id": "cd56072a",
   "metadata": {},
   "outputs": [],
   "source": []
  }
 ],
 "metadata": {
  "kernelspec": {
   "display_name": "base",
   "language": "python",
   "name": "python3"
  },
  "language_info": {
   "codemirror_mode": {
    "name": "ipython",
    "version": 3
   },
   "file_extension": ".py",
   "mimetype": "text/x-python",
   "name": "python",
   "nbconvert_exporter": "python",
   "pygments_lexer": "ipython3",
   "version": "3.13.5"
  }
 },
 "nbformat": 4,
 "nbformat_minor": 5
}
