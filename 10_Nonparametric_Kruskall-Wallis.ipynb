{
 "cells": [
  {
   "cell_type": "markdown",
   "id": "e0fc4024",
   "metadata": {},
   "source": [
    "# 10_Nonparametric_Kruskall-Wallis"
   ]
  },
  {
   "cell_type": "markdown",
   "id": "bcaf7f22",
   "metadata": {},
   "source": [
    "## Perform Kruskal-Wallis test and plot a box plot for DIC and temperature data."
   ]
  },
  {
   "cell_type": "code",
   "execution_count": 1,
   "id": "2a4b0046",
   "metadata": {},
   "outputs": [],
   "source": [
    "def read_csv(file):\n",
    "    import pandas as pd\n",
    "    df = pd.read_csv(file)\n",
    "    return df\n"
   ]
  },
  {
   "cell_type": "code",
   "execution_count": 2,
   "id": "147c3f0a",
   "metadata": {},
   "outputs": [
    {
     "data": {
      "text/plain": [
       "Index(['sample', 'date', 'estuary', 'area', 'station', 'layer_depth', 'season',\n",
       "       'chlorophy_microg_l', 'cond_microsiemens_cm', 'depth_m',\n",
       "       'do_percent_sat', 'do_mg_l', 'sal_psu', 'sp_cond_microsiemens_cm',\n",
       "       'turbidity_fnu', 'temp_c', 'latitude', 'longitude', 'dic_micromol_kg',\n",
       "       'ta_micromol_kg', 'dummy_data'],\n",
       "      dtype='object')"
      ]
     },
     "execution_count": 2,
     "metadata": {},
     "output_type": "execute_result"
    }
   ],
   "source": [
    "path= \"./BD/bd_exercises_curse.csv\"\n",
    "\n",
    "bd_data = read_csv(path)\n",
    "bd_data.columns\n"
   ]
  },
  {
   "cell_type": "code",
   "execution_count": 11,
   "id": "e37c0ce3",
   "metadata": {},
   "outputs": [],
   "source": [
    "from scipy.stats import kruskal\n",
    "\n",
    "def kruskal_wallis_test(*groups, alpha=0.05):\n",
    "    result = kruskal(*groups)\n",
    "\n",
    "    print(f\"Kruskal-Wallis test: {result.statistic}\")\n",
    "    print(f\"p-value: {result.pvalue}\")\n",
    "\n",
    "    if result.pvalue < alpha:\n",
    "        print(\"The diferences between groups are statistically significant.\")\n",
    "    else:\n",
    "        print(\"No statiscally significant diferences between groups.\")"
   ]
  },
  {
   "cell_type": "code",
   "execution_count": 12,
   "id": "2db5016e",
   "metadata": {},
   "outputs": [],
   "source": [
    "#Se define la media de la temperatura\n",
    "median_temp = bd_data[\"temp_c\"].median()\n",
    "#Se define una columna nueva que tiene el grupo al que pertenece\n",
    "bd_data[\"temp_group\"] = bd_data[\"temp_c\"].apply(lambda x: \"Baja\" if x <= median_temp else \"Alta\")"
   ]
  },
  {
   "cell_type": "code",
   "execution_count": 13,
   "id": "e55c2616",
   "metadata": {},
   "outputs": [],
   "source": [
    "#Se crean dos variables para agrupar el campo dic según su temperatura\n",
    "dic_baja = bd_data[bd_data[\"temp_group\"] == \"Baja\"][\"dic_micromol_kg\"]\n",
    "dic_alta = bd_data[bd_data[\"temp_group\"] == \"Alta\"][\"dic_micromol_kg\"]"
   ]
  },
  {
   "cell_type": "code",
   "execution_count": 15,
   "id": "41f0d95e",
   "metadata": {},
   "outputs": [],
   "source": [
    "import scikit_posthocs as sp"
   ]
  },
  {
   "cell_type": "code",
   "execution_count": 16,
   "id": "d8cfc79e",
   "metadata": {},
   "outputs": [
    {
     "name": "stdout",
     "output_type": "stream",
     "text": [
      "Kruskal-Wallis test: 2.195556166913502\n",
      "p-value: 0.13840924338451996\n",
      "No statiscally significant diferences between groups.\n"
     ]
    }
   ],
   "source": [
    "# Aplicar la prueba de Kruskal-Wallis\n",
    "kruskal_wallis_test(dic_baja, dic_alta)"
   ]
  },
  {
   "cell_type": "markdown",
   "id": "5d3ea1a7",
   "metadata": {},
   "source": [
    "## Box plot"
   ]
  },
  {
   "cell_type": "code",
   "execution_count": 17,
   "id": "2377e382",
   "metadata": {},
   "outputs": [],
   "source": [
    "import seaborn as sns\n",
    "import matplotlib.pyplot as plt\n"
   ]
  },
  {
   "cell_type": "code",
   "execution_count": 23,
   "id": "7cdf4ee3",
   "metadata": {},
   "outputs": [
    {
     "name": "stderr",
     "output_type": "stream",
     "text": [
      "C:\\Users\\yurev\\AppData\\Local\\Temp\\ipykernel_19176\\1110858842.py:3: FutureWarning: \n",
      "\n",
      "Passing `palette` without assigning `hue` is deprecated and will be removed in v0.14.0. Assign the `x` variable to `hue` and set `legend=False` for the same effect.\n",
      "\n",
      "  sns.boxplot(data=bd_data, x='temp_group', y='dic_micromol_kg', palette=my_colors)\n"
     ]
    },
    {
     "data": {
      "image/png": "[encoded data removed]",
      "text/plain": [
       "<Figure size 640x480 with 1 Axes>"
      ]
     },
     "metadata": {},
     "output_type": "display_data"
    }
   ],
   "source": [
    "my_colors =[\"#ef0808\", \"#1f08ef\"]\n",
    "\n",
    "sns.boxplot(data=bd_data, x='temp_group', y='dic_micromol_kg', palette=my_colors)\n",
    "plt.title('Difference in DIC between temperature groups')\n",
    "plt.xlabel('Temperature group')\n",
    "plt.ylabel('DIC micromol/kg')\n",
    "plt.show()\n"
   ]
  },
  {
   "cell_type": "markdown",
   "id": "e7690a49",
   "metadata": {},
   "source": [
    "### Se aplicó la prueba de Kruskal-Wallis para comparar los valores de DIC entre los dos grupos de temperatura. El resultado no fue estadísticamente significativo, por lo que no se encontraron diferencias entre los grupos. Por lo que no se aplicará la prueba post hoc de Dunn."
   ]
  },
  {
   "cell_type": "code",
   "execution_count": null,
   "id": "4a6b5c83",
   "metadata": {},
   "outputs": [],
   "source": []
  }
 ],
 "metadata": {
  "kernelspec": {
   "display_name": "base",
   "language": "python",
   "name": "python3"
  },
  "language_info": {
   "codemirror_mode": {
    "name": "ipython",
    "version": 3
   },
   "file_extension": ".py",
   "mimetype": "text/x-python",
   "name": "python",
   "nbconvert_exporter": "python",
   "pygments_lexer": "ipython3",
   "version": "3.13.5"
  }
 },
 "nbformat": 4,
 "nbformat_minor": 5
}
