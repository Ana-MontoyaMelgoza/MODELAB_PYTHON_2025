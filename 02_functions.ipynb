{
 "cells": [
  {
   "cell_type": "markdown",
   "id": "79eb0d92",
   "metadata": {},
   "source": [
    "# PASO UNO\n",
    "## Crear funciones compuestas que evalúen el valor absoluto de un número\n",
    "\n"
   ]
  },
  {
   "cell_type": "code",
   "execution_count": null,
   "id": "818c04b5",
   "metadata": {},
   "outputs": [],
   "source": [
    "# función para evaluar si un número es negativo\n",
    "def es_negativo(x):\n",
    "    return x < 0"
   ]
  },
  {
   "cell_type": "code",
   "execution_count": null,
   "id": "f08fffed",
   "metadata": {},
   "outputs": [],
   "source": [
    "# Función para convertir un número negativo en positivo\n",
    "def pasar_positivo(x):\n",
    "    return x * -1\n"
   ]
  },
  {
   "cell_type": "code",
   "execution_count": null,
   "id": "e8c907cf",
   "metadata": {},
   "outputs": [],
   "source": [
    "## Función para evaluar el valor absoluto de un número\n",
    "def valor_absoluto(x):\n",
    "    if es_negativo(x):\n",
    "        return pasar_positivo(x)\n",
    "    else:\n",
    "        return x"
   ]
  },
  {
   "cell_type": "code",
   "execution_count": 11,
   "id": "ac08ae28",
   "metadata": {},
   "outputs": [
    {
     "name": "stdout",
     "output_type": "stream",
     "text": [
      "2\n",
      "0\n",
      "5\n"
     ]
    }
   ],
   "source": [
    "# Ejecución\n",
    "print(valor_absoluto(-2))\n",
    "print(valor_absoluto(0))\n",
    "print(valor_absoluto(5))"
   ]
  },
  {
   "cell_type": "markdown",
   "id": "20dc2930",
   "metadata": {},
   "source": [
    "## Uso de funcionalidad de python"
   ]
  },
  {
   "cell_type": "code",
   "execution_count": 13,
   "id": "e56a6f4a",
   "metadata": {},
   "outputs": [
    {
     "name": "stdout",
     "output_type": "stream",
     "text": [
      "2\n",
      "0\n",
      "2\n"
     ]
    }
   ],
   "source": [
    "print(abs(-2))\n",
    "print(abs(0))\n",
    "print(abs(2))"
   ]
  },
  {
   "cell_type": "code",
   "execution_count": null,
   "id": "521331be",
   "metadata": {},
   "outputs": [],
   "source": []
  }
 ],
 "metadata": {
  "kernelspec": {
   "display_name": "base",
   "language": "python",
   "name": "python3"
  },
  "language_info": {
   "codemirror_mode": {
    "name": "ipython",
    "version": 3
   },
   "file_extension": ".py",
   "mimetype": "text/x-python",
   "name": "python",
   "nbconvert_exporter": "python",
   "pygments_lexer": "ipython3",
   "version": "3.13.5"
  }
 },
 "nbformat": 4,
 "nbformat_minor": 5
}
