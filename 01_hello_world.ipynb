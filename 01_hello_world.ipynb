{
 "cells": [
  {
   "cell_type": "markdown",
   "id": "79f87f1a",
   "metadata": {},
   "source": [
    "## PASO UNO\n",
    "## Imprimir Hello Word"
   ]
  },
  {
   "cell_type": "code",
   "execution_count": 1,
   "id": "cda5acf8",
   "metadata": {},
   "outputs": [
    {
     "name": "stdout",
     "output_type": "stream",
     "text": [
      "Hello world\n"
     ]
    }
   ],
   "source": [
    "print(\"Hello world\")"
   ]
  },
  {
   "cell_type": "markdown",
   "id": "cb182c2f",
   "metadata": {},
   "source": [
    "# PASO  DOS\n",
    "## Operaciones"
   ]
  },
  {
   "cell_type": "markdown",
   "id": "ee3cefd3",
   "metadata": {},
   "source": [
    "**Adición**"
   ]
  },
  {
   "cell_type": "code",
   "execution_count": 4,
   "id": "9e4511de",
   "metadata": {},
   "outputs": [
    {
     "name": "stdout",
     "output_type": "stream",
     "text": [
      "7\n"
     ]
    }
   ],
   "source": [
    "num1  = 2\n",
    "num2 = 5\n",
    "res = num1 + num2\n",
    "print(res)"
   ]
  },
  {
   "cell_type": "markdown",
   "id": "9e88a808",
   "metadata": {},
   "source": [
    "**Substracción**"
   ]
  },
  {
   "cell_type": "code",
   "execution_count": 7,
   "id": "b404c2cf",
   "metadata": {},
   "outputs": [
    {
     "name": "stdout",
     "output_type": "stream",
     "text": [
      "0\n"
     ]
    }
   ],
   "source": [
    "num1  = 5\n",
    "num2 = 5\n",
    "res = num1 - num2\n",
    "print(res)"
   ]
  },
  {
   "cell_type": "markdown",
   "id": "ec040aec",
   "metadata": {},
   "source": [
    "**Multiplicación**"
   ]
  },
  {
   "cell_type": "code",
   "execution_count": 10,
   "id": "955dabed",
   "metadata": {},
   "outputs": [
    {
     "name": "stdout",
     "output_type": "stream",
     "text": [
      "100\n"
     ]
    }
   ],
   "source": [
    "num1  = 20\n",
    "num2 = 5\n",
    "res = num1 * num2\n",
    "print(res)"
   ]
  },
  {
   "cell_type": "markdown",
   "id": "186d301d",
   "metadata": {},
   "source": [
    "**División**"
   ]
  },
  {
   "cell_type": "code",
   "execution_count": 11,
   "id": "ebdb378e",
   "metadata": {},
   "outputs": [
    {
     "name": "stdout",
     "output_type": "stream",
     "text": [
      "4.0\n"
     ]
    }
   ],
   "source": [
    "num1  = 20\n",
    "num2 = 5\n",
    "res = num1 / num2\n",
    "print(res)"
   ]
  },
  {
   "cell_type": "markdown",
   "id": "959cb0cc",
   "metadata": {},
   "source": []
  }
 ],
 "metadata": {
  "kernelspec": {
   "display_name": "base",
   "language": "python",
   "name": "python3"
  },
  "language_info": {
   "codemirror_mode": {
    "name": "ipython",
    "version": 3
   },
   "file_extension": ".py",
   "mimetype": "text/x-python",
   "name": "python",
   "nbconvert_exporter": "python",
   "pygments_lexer": "ipython3",
   "version": "3.13.5"
  }
 },
 "nbformat": 4,
 "nbformat_minor": 5
}
