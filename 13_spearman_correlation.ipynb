{
 "cells": [
  {
   "cell_type": "markdown",
   "id": "327018b4",
   "metadata": {},
   "source": [
    "# 13_spearman_correlation\n",
    "\n",
    "## Create a function to compute the Pearson correlation"
   ]
  },
  {
   "cell_type": "code",
   "execution_count": 4,
   "id": "b4dc8e14",
   "metadata": {},
   "outputs": [],
   "source": [
    "from scipy.stats import pearsonr\n",
    "import pandas as pd"
   ]
  },
  {
   "cell_type": "code",
   "execution_count": 5,
   "id": "68facdef",
   "metadata": {},
   "outputs": [],
   "source": [
    "def pearson_corr(df, col1, col2):\n",
    "    # Drop rows with missing values in the selected columns\n",
    "    data = df[[col1, col2]].dropna()\n",
    "    corr, p_value = pearsonr(data[col1], data[col2])\n",
    "    return corr, p_value"
   ]
  },
  {
   "cell_type": "code",
   "execution_count": 6,
   "id": "b05f9ee0",
   "metadata": {},
   "outputs": [],
   "source": [
    "path = './BD/bd_exercises_curse.csv'\n",
    "bd_data = pd.read_csv(path)"
   ]
  },
  {
   "cell_type": "code",
   "execution_count": 8,
   "id": "18007376",
   "metadata": {},
   "outputs": [],
   "source": [
    "corr, p_value = pearson_corr(bd_data, \"temp_c\", \"sal_psu\")\n"
   ]
  },
  {
   "cell_type": "code",
   "execution_count": 9,
   "id": "be70aff2",
   "metadata": {},
   "outputs": [
    {
     "name": "stdout",
     "output_type": "stream",
     "text": [
      "Pearson correlation: -0.4213066471904373\n",
      "P-value: 6.879907520531209e-06\n"
     ]
    }
   ],
   "source": [
    "print(\"Pearson correlation:\", corr)\n",
    "print(\"P-value:\", p_value)"
   ]
  },
  {
   "cell_type": "code",
   "execution_count": null,
   "id": "b2ba1c0f",
   "metadata": {},
   "outputs": [],
   "source": []
  }
 ],
 "metadata": {
  "kernelspec": {
   "display_name": "base",
   "language": "python",
   "name": "python3"
  },
  "language_info": {
   "codemirror_mode": {
    "name": "ipython",
    "version": 3
   },
   "file_extension": ".py",
   "mimetype": "text/x-python",
   "name": "python",
   "nbconvert_exporter": "python",
   "pygments_lexer": "ipython3",
   "version": "3.13.5"
  }
 },
 "nbformat": 4,
 "nbformat_minor": 5
}
