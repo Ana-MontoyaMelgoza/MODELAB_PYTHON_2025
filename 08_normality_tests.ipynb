{
 "cells": [
  {
   "cell_type": "markdown",
   "id": "d2aece2c",
   "metadata": {},
   "source": [
    "# 08_normality_tests"
   ]
  },
  {
   "cell_type": "markdown",
   "id": "a4a80519",
   "metadata": {},
   "source": [
    "## Respond to the following question:\n"
   ]
  },
  {
   "cell_type": "markdown",
   "id": "a5502919",
   "metadata": {},
   "source": [
    "### ¿Cuándo es apropiado usar la prueba de Kolmogorov-Smirnov en lugar de la prueba de Shapiro-Wilk?\n",
    "\n",
    "La prueba de Kolmogorov-Smirnov es una prueba más general, es decir, compara la distribución empírica de los datos contra una distibución teórica (exponencial, uniforme, Poisson, etc.). Es más apropiado usar la pruea K-S cuando no se busca solo normalidad; tabién es más útil cuando la muestra es grande (n>2000.). Por su parte, la prueba de  Shapiro-Wilk está diseñada específicamente para probar la normalidad de los datos, es mucho más sensible para muestras pequeñas (n<2000).\n"
   ]
  },
  {
   "cell_type": "markdown",
   "id": "c734bd51",
   "metadata": {},
   "source": [
    "###  Based on the previous answer, perform the appropriate test to assess normality in the DIC (Dissolved Inorganic Carbon) and Salinity datasets."
   ]
  },
  {
   "cell_type": "markdown",
   "id": "68be8ef2",
   "metadata": {},
   "source": [
    "### Shapiro-Wilk Test"
   ]
  },
  {
   "cell_type": "code",
   "execution_count": 1,
   "id": "a8c99b2b",
   "metadata": {},
   "outputs": [],
   "source": [
    "#Import libraries\n",
    "import pandas as pd\n",
    "from scipy.stats import shapiro as stats"
   ]
  },
  {
   "cell_type": "code",
   "execution_count": 2,
   "id": "c6b164a5",
   "metadata": {},
   "outputs": [],
   "source": [
    "def read_csv (file):\n",
    "    return pd.read_csv(file)\n"
   ]
  },
  {
   "cell_type": "code",
   "execution_count": 3,
   "id": "ad5f1829",
   "metadata": {},
   "outputs": [
    {
     "name": "stdout",
     "output_type": "stream",
     "text": [
      "<class 'pandas.core.frame.DataFrame'>\n",
      "RangeIndex: 106 entries, 0 to 105\n",
      "Data columns (total 21 columns):\n",
      " #   Column                   Non-Null Count  Dtype  \n",
      "---  ------                   --------------  -----  \n",
      " 0   sample                   106 non-null    object \n",
      " 1   date                     106 non-null    object \n",
      " 2   estuary                  106 non-null    object \n",
      " 3   area                     106 non-null    object \n",
      " 4   station                  106 non-null    object \n",
      " 5   layer_depth              106 non-null    object \n",
      " 6   season                   106 non-null    object \n",
      " 7   chlorophy_microg_l       106 non-null    float64\n",
      " 8   cond_microsiemens_cm     106 non-null    float64\n",
      " 9   depth_m                  106 non-null    float64\n",
      " 10  do_percent_sat           106 non-null    float64\n",
      " 11  do_mg_l                  106 non-null    float64\n",
      " 12  sal_psu                  106 non-null    float64\n",
      " 13  sp_cond_microsiemens_cm  106 non-null    float64\n",
      " 14  turbidity_fnu            106 non-null    float64\n",
      " 15  temp_c                   106 non-null    float64\n",
      " 16  latitude                 106 non-null    float64\n",
      " 17  longitude                106 non-null    float64\n",
      " 18  dic_micromol_kg          106 non-null    int64  \n",
      " 19  ta_micromol_kg           106 non-null    int64  \n",
      " 20  dummy_data               99 non-null     float64\n",
      "dtypes: float64(12), int64(2), object(7)\n",
      "memory usage: 17.5+ KB\n",
      "None\n"
     ]
    }
   ],
   "source": [
    "path = \"./BD/bd_exercises_curse.csv\"\n",
    "\n",
    "bd_data = read_csv(path)\n",
    "print(bd_data.info())\n"
   ]
  },
  {
   "cell_type": "code",
   "execution_count": 6,
   "id": "ae1e15d8",
   "metadata": {},
   "outputs": [
    {
     "name": "stdout",
     "output_type": "stream",
     "text": [
      "Estadístico=0.8600, p-valor 0.0000\n",
      "La distribución NO es normal (se rechaza H0)\n"
     ]
    }
   ],
   "source": [
    "dic = bd_data[\"dic_micromol_kg\"]\n",
    "\n",
    "stat, p = stats(dic)\n",
    "print(f'Estadístico={stat:.4f}, p-valor {p:.4f}')\n",
    "if p > 0.05:\n",
    "    print(\"La distribución es normal (no se rechaza H0)\")\n",
    "else:\n",
    "    print(\"La distribución NO es normal (se rechaza H0)\")\n"
   ]
  },
  {
   "cell_type": "code",
   "execution_count": 7,
   "id": "505988cd",
   "metadata": {},
   "outputs": [
    {
     "name": "stdout",
     "output_type": "stream",
     "text": [
      "Estadístico=0.8867, p-valor 0.0000\n",
      "La distribución NO es normal (se rechaza H0)\n"
     ]
    }
   ],
   "source": [
    "dic = bd_data[\"sal_psu\"]\n",
    "\n",
    "stat, p = stats(dic)\n",
    "print(f'Estadístico={stat:.4f}, p-valor {p:.4f}')\n",
    "if p > 0.05:\n",
    "    print(\"La distribución es normal (no se rechaza H0)\")\n",
    "else:\n",
    "    print(\"La distribución NO es normal (se rechaza H0)\")"
   ]
  },
  {
   "cell_type": "code",
   "execution_count": null,
   "id": "592d1b09",
   "metadata": {},
   "outputs": [],
   "source": []
  }
 ],
 "metadata": {
  "kernelspec": {
   "display_name": "base",
   "language": "python",
   "name": "python3"
  },
  "language_info": {
   "codemirror_mode": {
    "name": "ipython",
    "version": 3
   },
   "file_extension": ".py",
   "mimetype": "text/x-python",
   "name": "python",
   "nbconvert_exporter": "python",
   "pygments_lexer": "ipython3",
   "version": "3.13.5"
  }
 },
 "nbformat": 4,
 "nbformat_minor": 5
}
