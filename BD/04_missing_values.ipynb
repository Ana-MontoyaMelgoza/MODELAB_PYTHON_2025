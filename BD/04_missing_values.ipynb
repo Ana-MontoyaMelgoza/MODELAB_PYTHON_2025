{
 "cells": [
  {
   "cell_type": "code",
   "execution_count": 1,
   "id": "4e0661ad",
   "metadata": {},
   "outputs": [],
   "source": [
    "import pandas as pd"
   ]
  },
  {
   "cell_type": "code",
   "execution_count": 3,
   "id": "d8196264",
   "metadata": {},
   "outputs": [],
   "source": [
    "def import_csv(file):\n",
    "    return pd.read_csv(file)"
   ]
  },
  {
   "cell_type": "code",
   "execution_count": 4,
   "id": "369adc54",
   "metadata": {},
   "outputs": [],
   "source": [
    "path = \"../BD/bd_exercises_curse.csv\"\n",
    "\n",
    "bd_data = import_csv(path)"
   ]
  },
  {
   "cell_type": "markdown",
   "id": "d909695e",
   "metadata": {},
   "source": [
    "## - Create a new column called \"TA_DIC_ratio\" that is the ratio of TA to DIC\n"
   ]
  },
  {
   "cell_type": "code",
   "execution_count": 5,
   "id": "830e384f",
   "metadata": {},
   "outputs": [],
   "source": [
    "bd_data[\"TA_DIC_ratio\"] = bd_data[\"ta_micromol_kg\"] / bd_data[\"dic_micromol_kg\"]"
   ]
  },
  {
   "cell_type": "code",
   "execution_count": 7,
   "id": "0a497f54",
   "metadata": {},
   "outputs": [
    {
     "data": {
      "text/plain": [
       "Index(['sample', 'date', 'estuary', 'area', 'station', 'layer_depth', 'season',\n",
       "       'chlorophy_microg_l', 'cond_microsiemens_cm', 'depth_m',\n",
       "       'do_percent_sat', 'do_mg_l', 'sal_psu', 'sp_cond_microsiemens_cm',\n",
       "       'turbidity_fnu', 'temp_c', 'latitude', 'longitude', 'dic_micromol_kg',\n",
       "       'ta_micromol_kg', 'dummy_data', 'TA_DIC_ratio'],\n",
       "      dtype='object')"
      ]
     },
     "execution_count": 7,
     "metadata": {},
     "output_type": "execute_result"
    }
   ],
   "source": [
    "bd_data.columns"
   ]
  },
  {
   "cell_type": "markdown",
   "id": "06dded01",
   "metadata": {},
   "source": [
    "## - Calculate the mean and standard deviation of the \"TA_DIC_ratio\" for each season"
   ]
  },
  {
   "cell_type": "code",
   "execution_count": 9,
   "id": "17135c61",
   "metadata": {},
   "outputs": [
    {
     "name": "stdout",
     "output_type": "stream",
     "text": [
      "  season      mean       std\n",
      "0    Dry  1.058558  0.086111\n",
      "1  Rainy  1.022350  0.100924\n"
     ]
    }
   ],
   "source": [
    "season_stats = bd_data.groupby(\"season\")[\"TA_DIC_ratio\"].agg([\"mean\", \"std\"]).reset_index()\n",
    "\n",
    "print(season_stats)"
   ]
  },
  {
   "cell_type": "markdown",
   "id": "e41c61b6",
   "metadata": {},
   "source": [
    "## - Calculate the mean and standard deviation of the \"TA_DIC_ratio\" for each season and area"
   ]
  },
  {
   "cell_type": "code",
   "execution_count": 11,
   "id": "76471a38",
   "metadata": {},
   "outputs": [
    {
     "name": "stdout",
     "output_type": "stream",
     "text": [
      "  season   area      mean       std\n",
      "0    Dry  Coast  1.115766  0.115033\n",
      "1    Dry  Plume  1.059687  0.035574\n",
      "2    Dry  River  1.000221  0.037747\n",
      "3  Rainy  Coast  1.090127  0.129658\n",
      "4  Rainy  Plume  1.025544  0.049222\n",
      "5  Rainy  River  0.945217  0.025084\n"
     ]
    }
   ],
   "source": [
    "season_area_stats = bd_data.groupby([\"season\", \"area\"])[\"TA_DIC_ratio\"].agg([\"mean\", \"std\"]).reset_index()\n",
    "\n",
    "print(season_area_stats)"
   ]
  },
  {
   "cell_type": "markdown",
   "id": "8c053c6d",
   "metadata": {},
   "source": [
    "## - Save the results to an Excel file called \"TA_DIC_Season_Areas.xlsx\""
   ]
  },
  {
   "cell_type": "code",
   "execution_count": 12,
   "id": "9d78d045",
   "metadata": {},
   "outputs": [],
   "source": [
    "with pd.ExcelWriter(\"TA_DIC_Season_Areas.xlsx\") as writer:\n",
    "    season_stats.to_excel(writer, sheet_name=\"Season\", index=False)\n",
    "    season_area_stats.to_excel(writer, sheet_name=\"Season_Area\", index=False)"
   ]
  },
  {
   "cell_type": "code",
   "execution_count": null,
   "id": "f3045c67",
   "metadata": {},
   "outputs": [],
   "source": []
  }
 ],
 "metadata": {
  "kernelspec": {
   "display_name": "base",
   "language": "python",
   "name": "python3"
  },
  "language_info": {
   "codemirror_mode": {
    "name": "ipython",
    "version": 3
   },
   "file_extension": ".py",
   "mimetype": "text/x-python",
   "name": "python",
   "nbconvert_exporter": "python",
   "pygments_lexer": "ipython3",
   "version": "3.13.5"
  }
 },
 "nbformat": 4,
 "nbformat_minor": 5
}
