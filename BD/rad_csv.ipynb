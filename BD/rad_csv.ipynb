{
 "cells": [
  {
   "cell_type": "code",
   "execution_count": null,
   "id": "f4d208db",
   "metadata": {},
   "outputs": [],
   "source": [
    "# Instalación de PANDAS en Anaconda\n",
    "# conda install anaconda::pandas\n"
   ]
  },
  {
   "cell_type": "code",
   "execution_count": null,
   "id": "09564489",
   "metadata": {},
   "outputs": [],
   "source": [
    "# Se importa la paqueteria\n",
    "import pandas as pd"
   ]
  },
  {
   "cell_type": "code",
   "execution_count": null,
   "id": "500c2f44",
   "metadata": {},
   "outputs": [],
   "source": [
    "# Función para leer csv\n",
    "def read_csv_to_dataframe(file_path):\n",
    "    try:\n",
    "        df = pd.read_csv(file_path)\n",
    "        return df\n",
    "    except Exception as e:\n",
    "        print(f\"Error reading the CSV file {e}\")\n",
    "    return None"
   ]
  },
  {
   "cell_type": "code",
   "execution_count": null,
   "id": "8a66855f",
   "metadata": {},
   "outputs": [],
   "source": [
    "terminos_df = read_csv_to_dataframe(\"bd_param_fis.csv\")"
   ]
  },
  {
   "cell_type": "code",
   "execution_count": null,
   "id": "4941b906",
   "metadata": {},
   "outputs": [],
   "source": [
    "# Muestra las primeras 10 filas\n",
    "print(terminos_df.head(10))"
   ]
  },
  {
   "cell_type": "code",
   "execution_count": 8,
   "id": "1c4080bd",
   "metadata": {},
   "outputs": [
    {
     "name": "stdout",
     "output_type": "stream",
     "text": [
      "<class 'pandas.core.frame.DataFrame'>\n",
      "RangeIndex: 22 entries, 0 to 21\n",
      "Data columns (total 10 columns):\n",
      " #   Column          Non-Null Count  Dtype  \n",
      "---  ------          --------------  -----  \n",
      " 0   stage           22 non-null     object \n",
      " 1   date            22 non-null     object \n",
      " 2   estuary         22 non-null     object \n",
      " 3   area            22 non-null     object \n",
      " 4   season          22 non-null     object \n",
      " 5   temp_c          22 non-null     float64\n",
      " 6   ups             22 non-null     float64\n",
      " 7   oxygen_m_l      22 non-null     float64\n",
      " 8   clorophy_mic_l  22 non-null     float64\n",
      " 9   sdt_m_l         22 non-null     float64\n",
      "dtypes: float64(5), object(5)\n",
      "memory usage: 1.8+ KB\n",
      "None\n"
     ]
    }
   ],
   "source": [
    "# Información basica de data freame\n",
    "print(terminos_df.info())"
   ]
  },
  {
   "cell_type": "code",
   "execution_count": null,
   "id": "f719383c",
   "metadata": {},
   "outputs": [
    {
     "name": "stdout",
     "output_type": "stream",
     "text": [
      "          temp_c        ups  oxygen_m_l  clorophy_mic_l    sdt_m_l\n",
      "count  22.000000  22.000000   22.000000       22.000000  22.000000\n",
      "mean   29.087136  27.976818    6.638636        3.568636   5.304545\n",
      "std     0.624191  12.214334    0.599335        1.635002   1.683244\n",
      "min    27.800000   7.870000    5.470000        0.990000   1.760000\n",
      "25%    28.667500  20.115000    6.262500        2.420000   4.472500\n",
      "50%    28.999500  24.545000    6.635000        3.695000   5.580000\n",
      "75%    29.570000  39.835000    7.075000        4.465000   6.335000\n",
      "max    30.270000  45.880000    7.700000        7.300000   7.550000\n"
     ]
    }
   ],
   "source": [
    "#Estadisticas básicas de data freame\n",
    "print(terminos_df.describe())"
   ]
  },
  {
   "cell_type": "code",
   "execution_count": 11,
   "id": "53092a13",
   "metadata": {},
   "outputs": [
    {
     "name": "stdout",
     "output_type": "stream",
     "text": [
      "Index(['stage', 'date', 'estuary', 'area', 'season', 'temp_c', 'ups',\n",
      "       'oxygen_m_l', 'clorophy_mic_l', 'sdt_m_l'],\n",
      "      dtype='object')\n"
     ]
    }
   ],
   "source": [
    "# Obtener nombres de columnas\n",
    "print(terminos_df.columns)"
   ]
  },
  {
   "cell_type": "code",
   "execution_count": null,
   "id": "69f0558a",
   "metadata": {},
   "outputs": [],
   "source": []
  }
 ],
 "metadata": {
  "kernelspec": {
   "display_name": "base",
   "language": "python",
   "name": "python3"
  },
  "language_info": {
   "codemirror_mode": {
    "name": "ipython",
    "version": 3
   },
   "file_extension": ".py",
   "mimetype": "text/x-python",
   "name": "python",
   "nbconvert_exporter": "python",
   "pygments_lexer": "ipython3",
   "version": "3.13.5"
  }
 },
 "nbformat": 4,
 "nbformat_minor": 5
}
