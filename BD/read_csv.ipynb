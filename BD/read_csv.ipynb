{
 "cells": [
  {
   "cell_type": "markdown",
   "id": "d797d8a8",
   "metadata": {},
   "source": [
    "# Importinf and explore enviromental data"
   ]
  },
  {
   "cell_type": "code",
   "execution_count": null,
   "id": "f4d208db",
   "metadata": {},
   "outputs": [],
   "source": [
    "# Instalación de PANDAS en Anaconda\n",
    "# conda install anaconda::pandas\n"
   ]
  },
  {
   "cell_type": "code",
   "execution_count": 2,
   "id": "09564489",
   "metadata": {},
   "outputs": [],
   "source": [
    "# Se importa la paqueteria\n",
    "import pandas as pd"
   ]
  },
  {
   "cell_type": "code",
   "execution_count": 3,
   "id": "500c2f44",
   "metadata": {},
   "outputs": [],
   "source": [
    "# Función para leer csv\n",
    "def read_csv_to_dataframe(file_path):\n",
    "    try:\n",
    "        df = pd.read_csv(file_path)\n",
    "        return df\n",
    "    except Exception as e:\n",
    "        print(f\"Error reading the CSV file {e}\")\n",
    "    return None"
   ]
  },
  {
   "cell_type": "code",
   "execution_count": 4,
   "id": "8a66855f",
   "metadata": {},
   "outputs": [],
   "source": [
    "path = \"C:/Users/yurev/Documents/GitHub/MODELAB_PYTHON_2025/BD/bd_param_fis.csv\"\n",
    "terminos_df = read_csv_to_dataframe(\"bd_param_fis.csv\")"
   ]
  },
  {
   "cell_type": "code",
   "execution_count": 5,
   "id": "4941b906",
   "metadata": {},
   "outputs": [
    {
     "name": "stdout",
     "output_type": "stream",
     "text": [
      "  stage        date             estuary               area   season  temp_c  \\\n",
      "0    P1  26/04/2022  Laguna de Terminos                Rio  Estiaje  28.970   \n",
      "1    P2  26/04/2022  Laguna de Terminos       Laguna media  Estiaje  28.590   \n",
      "2    P3  26/04/2022  Laguna de Terminos     Laguna central  Estiaje  28.500   \n",
      "3   CH1  26/04/2022  Laguna de Terminos                Rio  Estiaje  29.290   \n",
      "4   CH2  26/04/2022  Laguna de Terminos       Laguna media  Estiaje  29.048   \n",
      "5   CH3  26/04/2022  Laguna de Terminos     Laguna central  Estiaje  30.270   \n",
      "6    C1  27/04/2022  Laguna de Terminos                Rio  Estiaje  29.240   \n",
      "7    C2  27/04/2022  Laguna de Terminos       Laguna media  Estiaje  28.800   \n",
      "8    C3  27/04/2022  Laguna de Terminos     Laguna central  Estiaje  28.560   \n",
      "9    PR  27/04/2022  Laguna de Terminos  Boca de la laguna  Estiaje  28.300   \n",
      "\n",
      "     ups  oxygen_m_l  clorophy_mic_l  sdt_m_l  \n",
      "0   9.36        7.50            3.97     7.30  \n",
      "1  40.00        6.24            4.77     6.34  \n",
      "2  43.80        5.75            4.42     4.54  \n",
      "3  38.59        6.82            2.74     7.32  \n",
      "4  40.80        6.66            1.22     4.46  \n",
      "5  42.30        6.91            1.34     3.52  \n",
      "6  33.97        6.36            2.10     7.55  \n",
      "7  40.96        6.43            2.79     6.85  \n",
      "8  39.34        6.61            7.30     5.33  \n",
      "9  45.88        5.75            0.99     6.25  \n"
     ]
    }
   ],
   "source": [
    "# Muestra las primeras 10 filas\n",
    "print(terminos_df.head(10))"
   ]
  },
  {
   "cell_type": "code",
   "execution_count": 8,
   "id": "1c4080bd",
   "metadata": {},
   "outputs": [
    {
     "name": "stdout",
     "output_type": "stream",
     "text": [
      "<class 'pandas.core.frame.DataFrame'>\n",
      "RangeIndex: 22 entries, 0 to 21\n",
      "Data columns (total 10 columns):\n",
      " #   Column          Non-Null Count  Dtype  \n",
      "---  ------          --------------  -----  \n",
      " 0   stage           22 non-null     object \n",
      " 1   date            22 non-null     object \n",
      " 2   estuary         22 non-null     object \n",
      " 3   area            22 non-null     object \n",
      " 4   season          22 non-null     object \n",
      " 5   temp_c          22 non-null     float64\n",
      " 6   ups             22 non-null     float64\n",
      " 7   oxygen_m_l      22 non-null     float64\n",
      " 8   clorophy_mic_l  22 non-null     float64\n",
      " 9   sdt_m_l         22 non-null     float64\n",
      "dtypes: float64(5), object(5)\n",
      "memory usage: 1.8+ KB\n",
      "None\n"
     ]
    }
   ],
   "source": [
    "# Información basica de data freame\n",
    "print(terminos_df.info())"
   ]
  },
  {
   "cell_type": "code",
   "execution_count": 6,
   "id": "f719383c",
   "metadata": {},
   "outputs": [
    {
     "name": "stdout",
     "output_type": "stream",
     "text": [
      "          temp_c        ups  oxygen_m_l  clorophy_mic_l    sdt_m_l\n",
      "count  22.000000  22.000000   22.000000       22.000000  22.000000\n",
      "mean   29.087136  27.976818    6.638636        3.568636   5.304545\n",
      "std     0.624191  12.214334    0.599335        1.635002   1.683244\n",
      "min    27.800000   7.870000    5.470000        0.990000   1.760000\n",
      "25%    28.667500  20.115000    6.262500        2.420000   4.472500\n",
      "50%    28.999500  24.545000    6.635000        3.695000   5.580000\n",
      "75%    29.570000  39.835000    7.075000        4.465000   6.335000\n",
      "max    30.270000  45.880000    7.700000        7.300000   7.550000\n"
     ]
    }
   ],
   "source": [
    "#Estadisticas básicas de data freame\n",
    "print(terminos_df.describe())"
   ]
  },
  {
   "cell_type": "code",
   "execution_count": 7,
   "id": "53092a13",
   "metadata": {},
   "outputs": [
    {
     "name": "stdout",
     "output_type": "stream",
     "text": [
      "Index(['stage', 'date', 'estuary', 'area', 'season', 'temp_c', 'ups',\n",
      "       'oxygen_m_l', 'clorophy_mic_l', 'sdt_m_l'],\n",
      "      dtype='object')\n"
     ]
    }
   ],
   "source": [
    "# Obtener nombres de columnas\n",
    "print(terminos_df.columns)"
   ]
  },
  {
   "cell_type": "code",
   "execution_count": null,
   "id": "69f0558a",
   "metadata": {},
   "outputs": [],
   "source": []
  }
 ],
 "metadata": {
  "kernelspec": {
   "display_name": "base",
   "language": "python",
   "name": "python3"
  },
  "language_info": {
   "codemirror_mode": {
    "name": "ipython",
    "version": 3
   },
   "file_extension": ".py",
   "mimetype": "text/x-python",
   "name": "python",
   "nbconvert_exporter": "python",
   "pygments_lexer": "ipython3",
   "version": "3.13.5"
  }
 },
 "nbformat": 4,
 "nbformat_minor": 5
}
